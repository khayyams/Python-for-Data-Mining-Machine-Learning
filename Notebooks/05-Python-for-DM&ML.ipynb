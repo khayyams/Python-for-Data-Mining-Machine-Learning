{
 "cells": [
  {
   "cell_type": "markdown",
   "metadata": {},
   "source": [
    "<div style=\"direction:rtl;line-height:300%;\"><font face=\"XB Zar\" size=5>\n",
    "<div align=center>\n",
    "   <br>\n",
    "    <font face=\"Times New Roman\" size=28>\n",
    "    <p></p>\n",
    "    In the name of God  \n",
    "    </font>\n",
    "    <br><br><br>\n",
    "    <font face=\"Times New Roman\" size=6 color=blue>\n",
    "    Python for Data Mining<br>      </font>\n",
    "    <font face=\"Times New Roman\" size=5 color=blue> \n",
    "        Insurance Research Center\n",
    "    </font>\n",
    "    <br>\n",
    "    <br>\n",
    "    <br>\n",
    "    <font face=\"Times New Roman\" size=5 color=#FF7500>\n",
    "    Khayyam Salehi \n",
    "    </font>\n",
    "    <br>       \n",
    "    <font face=\"Times New Roman\" size=4 color=#FF7500>\n",
    "    Assistant Professor\n",
    "    <br>\n",
    "    Department of Computer science\n",
    "    <br>\n",
    "    Shahrekord University\n",
    "    </font>\n",
    "    <br>    <br>\n",
    "</div>"
   ]
  },
  {
   "cell_type": "markdown",
   "metadata": {},
   "source": [
    "<hr style=\"border:2px solid black\"> </hr>"
   ]
  },
  {
   "cell_type": "code",
   "execution_count": null,
   "metadata": {},
   "outputs": [],
   "source": [
    "import pandas as pd\n",
    "import numpy as np"
   ]
  },
  {
   "cell_type": "markdown",
   "metadata": {},
   "source": [
    "# Inputs and Outputs using Pandas\n",
    "\n",
    "* `pd.read_`\n",
    "* `df.to_`\n",
    "\n",
    "https://pandas.pydata.org/pandas-docs/stable/user_guide/io.html"
   ]
  },
  {
   "cell_type": "code",
   "execution_count": null,
   "metadata": {},
   "outputs": [],
   "source": [
    "data_one = {'A': ['A0', 'A1', 'A2', 'A3'],'B': ['B0', 'B1', 'B2', 'B3']}\n",
    "data_two = {'C': ['C0', 'C1', 'C2', 'C3'], 'D': ['D0', 'D1', 'D2', 'D3']}\n",
    "one = pd.DataFrame(data_one)\n",
    "two = pd.DataFrame(data_two)\n",
    "df = pd.concat([one,two], axis = 1)\n",
    "df"
   ]
  },
  {
   "cell_type": "markdown",
   "metadata": {},
   "source": [
    "<a id='IOscv'></a>\n",
    "## Read from and write to `csv`"
   ]
  },
  {
   "cell_type": "code",
   "execution_count": null,
   "metadata": {},
   "outputs": [],
   "source": [
    "df.to_csv('test.csv') #the same as df.to_csv('test.csv', index=True)"
   ]
  },
  {
   "cell_type": "code",
   "execution_count": null,
   "metadata": {},
   "outputs": [],
   "source": [
    "df.to_csv('test.csv', index=False)"
   ]
  },
  {
   "cell_type": "code",
   "execution_count": null,
   "metadata": {},
   "outputs": [],
   "source": [
    "df = pd.read_csv('test.csv')\n",
    "df.drop(['Unnamed: 0'],axis = 1, inplace = True)\n",
    "df"
   ]
  },
  {
   "cell_type": "markdown",
   "metadata": {},
   "source": [
    "<a id='IOexcel'></a>\n",
    "## Read from and write to `excel files`"
   ]
  },
  {
   "cell_type": "markdown",
   "metadata": {},
   "source": [
    "**NOTE: Required pachages:**\n",
    "\n",
    "    pip install openpyxl\n",
    "    pip install xlrd\n",
    "    \n",
    "https://www.python-excel.org/"
   ]
  },
  {
   "cell_type": "code",
   "execution_count": null,
   "metadata": {},
   "outputs": [],
   "source": [
    "df"
   ]
  },
  {
   "cell_type": "code",
   "execution_count": null,
   "metadata": {},
   "outputs": [],
   "source": [
    "df.to_excel('test.xlsx',sheet_name = 'my_sheet_1',header=True,index = False)"
   ]
  },
  {
   "cell_type": "code",
   "execution_count": null,
   "metadata": {},
   "outputs": [],
   "source": [
    "df = pd.read_excel('test.xlsx')"
   ]
  },
  {
   "cell_type": "code",
   "execution_count": null,
   "metadata": {},
   "outputs": [],
   "source": [
    "df"
   ]
  },
  {
   "cell_type": "markdown",
   "metadata": {},
   "source": [
    " https://stackoverflow.com/questions/17977540/pandas-looking-up-the-list-of-sheets-in-an-excel-file"
   ]
  },
  {
   "cell_type": "code",
   "execution_count": null,
   "metadata": {},
   "outputs": [],
   "source": [
    "# Returns a list of sheet_names\n",
    "pd.ExcelFile('test.xlsx').sheet_names"
   ]
  },
  {
   "cell_type": "markdown",
   "metadata": {},
   "source": [
    "### Write to a multisheet excel file"
   ]
  },
  {
   "cell_type": "code",
   "execution_count": null,
   "metadata": {},
   "outputs": [],
   "source": [
    "df1 = pd.DataFrame({'Data': ['a', 'b', 'c', 'd']})\n",
    "df2 = pd.DataFrame({'Data': [1, 2, 3, 4]})\n",
    "df3 = pd.DataFrame({'Data': [1.1, 1.2, 1.3, 1.4]})\n",
    "df1"
   ]
  },
  {
   "cell_type": "code",
   "execution_count": null,
   "metadata": {},
   "outputs": [],
   "source": [
    "writer = pd.ExcelWriter('multiple.xlsx')\n",
    "df1.to_excel(writer, sheet_name='Sheeta')\n",
    "df2.to_excel(writer, sheet_name='Sheetb')\n",
    "df3.to_excel(writer, sheet_name='Sheetc')\n",
    "writer.save()"
   ]
  },
  {
   "cell_type": "code",
   "execution_count": null,
   "metadata": {},
   "outputs": [],
   "source": [
    "writer.close()"
   ]
  },
  {
   "cell_type": "markdown",
   "metadata": {},
   "source": [
    "<a id='IOhtml'></a>\n",
    "## Read from and write to `HTML`"
   ]
  },
  {
   "cell_type": "markdown",
   "metadata": {},
   "source": [
    "**When firewall does not block pandas from accessing the internet!**<br>\n",
    "**NOTE: Possible required pachages:**\n",
    "\n",
    "    pip install lxml    \n",
    "    pip install htmllib5    \n",
    "    pip install BeautifulSoup4"
   ]
  },
  {
   "cell_type": "code",
   "execution_count": null,
   "metadata": {},
   "outputs": [],
   "source": [
    "tables = pd.read_html('https://en.wikipedia.org/wiki/Futsal')"
   ]
  },
  {
   "cell_type": "code",
   "execution_count": null,
   "metadata": {},
   "outputs": [],
   "source": [
    "len(tables) #tables"
   ]
  },
  {
   "cell_type": "markdown",
   "metadata": {},
   "source": [
    "* useless tables\n",
    "* some need formatting"
   ]
  },
  {
   "cell_type": "code",
   "execution_count": null,
   "metadata": {},
   "outputs": [],
   "source": [
    "tables[2]"
   ]
  },
  {
   "cell_type": "code",
   "execution_count": null,
   "metadata": {},
   "outputs": [],
   "source": [
    "df = tables[2]\n",
    "df"
   ]
  },
  {
   "cell_type": "code",
   "execution_count": null,
   "metadata": {},
   "outputs": [],
   "source": [
    "df.columns = ['Rank', 'Team', 'Points']\n",
    "df"
   ]
  },
  {
   "cell_type": "code",
   "execution_count": null,
   "metadata": {},
   "outputs": [],
   "source": [
    "df = df.set_index('Rank')\n",
    "df"
   ]
  },
  {
   "cell_type": "code",
   "execution_count": null,
   "metadata": {},
   "outputs": [],
   "source": [
    "df.to_html('simple.html',index=True)"
   ]
  },
  {
   "cell_type": "code",
   "execution_count": null,
   "metadata": {},
   "outputs": [],
   "source": [
    "df.to_html('simple.html',index=False)"
   ]
  },
  {
   "cell_type": "markdown",
   "metadata": {},
   "source": [
    "<a id='IOjson'></a>\n",
    "## Read from and write to `json files`"
   ]
  },
  {
   "cell_type": "code",
   "execution_count": null,
   "metadata": {},
   "outputs": [],
   "source": [
    "df.to_json('test.json')"
   ]
  },
  {
   "cell_type": "code",
   "execution_count": null,
   "metadata": {},
   "outputs": [],
   "source": [
    "df = pd.read_json('test.json')\n",
    "df"
   ]
  },
  {
   "cell_type": "markdown",
   "metadata": {},
   "source": [
    "<img src='./figs/matplotlib.png' style=\"width: 500px\" />"
   ]
  },
  {
   "cell_type": "markdown",
   "metadata": {},
   "source": [
    "# matplotlib"
   ]
  },
  {
   "cell_type": "markdown",
   "metadata": {},
   "source": [
    "Matplotlib is \n",
    "* the most important library of data visualization with Python,\n",
    "* created by John Hunter,\n",
    "* to replicate MatLab's plotting capabilities in Python,\n",
    "* an excellent 2D and 3D graphics library for generating scientific figures.\n",
    "* generally easy to get started for simple plots,\n",
    "* to support for custom labels and texts,\n",
    "* capable of controling of every element in a figure,\n",
    "* very customizable in general.\n",
    "\n",
    "http://matplotlib.org/\n",
    "\n",
    "**Installation**\n",
    "\n",
    "    conda install matplotlib\n",
    "    pip install matplotlib"
   ]
  },
  {
   "cell_type": "code",
   "execution_count": null,
   "metadata": {},
   "outputs": [],
   "source": [
    "import matplotlib.pyplot as plt"
   ]
  },
  {
   "cell_type": "code",
   "execution_count": null,
   "metadata": {},
   "outputs": [],
   "source": [
    "# for older version of jupyter (version < 1.0)\n",
    "%matplotlib inline"
   ]
  },
  {
   "cell_type": "markdown",
   "metadata": {},
   "source": [
    "`plt.show()` at the end of all plotting commands for non-jupyter users (PyCharm, ...) to have the figure pop up in another window."
   ]
  },
  {
   "cell_type": "code",
   "execution_count": null,
   "metadata": {},
   "outputs": [],
   "source": [
    "import numpy as np"
   ]
  },
  {
   "cell_type": "code",
   "execution_count": null,
   "metadata": {},
   "outputs": [],
   "source": [
    "x = np.arange(1,11)\n",
    "x"
   ]
  },
  {
   "cell_type": "code",
   "execution_count": null,
   "metadata": {},
   "outputs": [],
   "source": [
    "y = 2 ** x\n",
    "y"
   ]
  },
  {
   "cell_type": "code",
   "execution_count": null,
   "metadata": {},
   "outputs": [],
   "source": [
    "plt.plot(x, y) \n",
    "plt.xlabel('X Axis')\n",
    "plt.ylabel('Y Axis')\n",
    "plt.title('$2^x$')\n",
    "plt.show() "
   ]
  },
  {
   "cell_type": "code",
   "execution_count": null,
   "metadata": {},
   "outputs": [],
   "source": [
    "plt.plot(x, y) \n",
    "plt.xlabel('X Axis')\n",
    "plt.ylabel('Y Axis')\n",
    "plt.xlim(1,9)\n",
    "plt.ylim(0,550)\n",
    "plt.title('2**x')\n",
    "plt.show() "
   ]
  },
  {
   "cell_type": "code",
   "execution_count": null,
   "metadata": {},
   "outputs": [],
   "source": [
    "# help(plt.savefig)"
   ]
  },
  {
   "cell_type": "code",
   "execution_count": null,
   "metadata": {},
   "outputs": [],
   "source": [
    "plt.savefig('1st-fig.png')"
   ]
  },
  {
   "cell_type": "code",
   "execution_count": null,
   "metadata": {},
   "outputs": [],
   "source": [
    "plt.plot(x, y) \n",
    "plt.xlabel('X Axis')\n",
    "plt.ylabel('Y Axis')\n",
    "plt.xlim(1,9)\n",
    "plt.ylim(0,550)\n",
    "plt.title('2**x')\n",
    "plt.savefig('1st-fig.png', dpi = 200)"
   ]
  },
  {
   "cell_type": "markdown",
   "metadata": {},
   "source": [
    "## Object-oriented methods\n",
    "\n",
    "* instantiate figure objects\n",
    "* call methods or attributes from that object."
   ]
  },
  {
   "cell_type": "code",
   "execution_count": null,
   "metadata": {},
   "outputs": [],
   "source": [
    "x = np.arange(1,11)\n",
    "x"
   ]
  },
  {
   "cell_type": "code",
   "execution_count": null,
   "metadata": {},
   "outputs": [],
   "source": [
    "# Creates blank canvas\n",
    "fig = plt.figure()"
   ]
  },
  {
   "cell_type": "markdown",
   "metadata": {},
   "source": [
    "**Note: All the plotting commands need to be in the same cell**"
   ]
  },
  {
   "cell_type": "code",
   "execution_count": null,
   "metadata": {},
   "outputs": [],
   "source": [
    "# Create Figure (empty canvas)\n",
    "fig = plt.figure()\n",
    "\n",
    "# Add set of axes to figure\n",
    "axes = fig.add_axes([0, 0, 1, 1]) # left, bottom, width, height (range 0 to 1)\n",
    "\n",
    "# Plot on that set of axes\n",
    "axes.plot(x, 2 ** x)\n",
    "\n",
    "# plt.show()"
   ]
  },
  {
   "cell_type": "code",
   "execution_count": null,
   "metadata": {},
   "outputs": [],
   "source": [
    "# Create Figure (empty canvas)\n",
    "fig = plt.figure()\n",
    "\n",
    "# Add set of axes to figure\n",
    "axes = fig.add_axes([0, 0, 1, 1]) # left, bottom, width, height (range 0 to 1)\n",
    "\n",
    "# Plot on that set of axes\n",
    "axes.plot(x, x * 2)\n",
    "axes.plot(x, x * 4)\n",
    "\n",
    "# plt.show()"
   ]
  },
  {
   "cell_type": "code",
   "execution_count": null,
   "metadata": {},
   "outputs": [],
   "source": [
    "# Creates blank canvas\n",
    "fig = plt.figure()\n",
    "\n",
    "axes1 = fig.add_axes([0, 0, 1, 1]) # Large figure\n",
    "axes2 = fig.add_axes([0.1, 0.2, 0.5, 0.5]) # Smaller figure\n",
    "\n",
    "# Larger Figure Axes 1\n",
    "axes1.plot(x, 2 ** x)\n",
    "\n",
    "# Use set_ to add to the axes figure\n",
    "axes1.set_xlabel('X Label 1')\n",
    "axes1.set_ylabel('Y Label 1')\n",
    "axes1.set_title('Big Figure')\n",
    "\n",
    "# Insert Figure Axes 2\n",
    "axes2.plot(x,x * 2)\n",
    "axes2.set_title('Small Figure');\n",
    "axes2.set_xlabel('X Label 2')\n",
    "axes2.set_ylabel('Y Label 2')"
   ]
  },
  {
   "cell_type": "code",
   "execution_count": null,
   "metadata": {},
   "outputs": [],
   "source": [
    "# Creates blank canvas\n",
    "fig = plt.figure()\n",
    "\n",
    "axes1 = fig.add_axes([0, 0, 1, 1]) # Large figure\n",
    "axes2 = fig.add_axes([0.2, 0.3, 0.5, 0.5]) # Smaller figure\n",
    "\n",
    "# Larger Figure Axes 1\n",
    "axes1.plot(x, 2 ** x)\n",
    "\n",
    "# Use set_ to add to the axes figure\n",
    "axes1.set_xlabel('X Label 1')\n",
    "axes1.set_ylabel('Y Label 1')\n",
    "axes1.set_title('Big Figure')\n",
    "\n",
    "# Insert Figure Axes 2\n",
    "axes2.plot(x,2 ** x)\n",
    "axes2.set_xlim(4,6)\n",
    "axes2.set_ylim(10,70)\n",
    "axes2.set_xlabel('X Label 2')\n",
    "axes2.set_ylabel('Y Label 2')\n",
    "axes2.set_title('Zoomed In');"
   ]
  },
  {
   "cell_type": "code",
   "execution_count": null,
   "metadata": {},
   "outputs": [],
   "source": [
    "# Creates blank canvas\n",
    "fig = plt.figure()\n",
    "\n",
    "axes1 = fig.add_axes([0, 0, 1, 1]) # Large figure\n",
    "axes2 = fig.add_axes([0.2, 0.3, 0.5, 0.5]) # Smaller figure\n",
    "axes3 = fig.add_axes([1, 1, 0.25, 0.25]) # Starts at top right corner!\n",
    "\n",
    "# Larger Figure Axes 1\n",
    "axes1.plot(x, 2 ** x)\n",
    "\n",
    "# Use set_ to add to the axes figure\n",
    "axes1.set_xlabel('X Label 1')\n",
    "axes1.set_ylabel('Y Label 1')\n",
    "axes1.set_title('Big Figure')\n",
    "\n",
    "# Insert Figure Axes 2\n",
    "axes2.plot(x,2 ** x)\n",
    "axes2.set_xlim(4,6)\n",
    "axes2.set_ylim(10,70)\n",
    "axes2.set_xlabel('X Label 2')\n",
    "axes2.set_ylabel('Y Label 2')\n",
    "axes2.set_title('Zoomed In');\n",
    "\n",
    "# Insert Figure Axes 3\n",
    "axes3.plot(x,2 ** x)\n",
    "axes3.set_xlim(4,6)\n",
    "axes3.set_ylim(10,70)\n",
    "axes3.set_xlabel('X Label 3')\n",
    "axes3.set_ylabel('Y Label 3')\n",
    "axes3.set_title('Outside Zoomed In');"
   ]
  },
  {
   "cell_type": "code",
   "execution_count": null,
   "metadata": {},
   "outputs": [],
   "source": [
    "fig = plt.figure(figsize=(3,3),dpi=100)\n",
    "axes = fig.add_axes([0,0,1,1])\n",
    "axes.plot(x, x ** 2)"
   ]
  },
  {
   "cell_type": "code",
   "execution_count": null,
   "metadata": {},
   "outputs": [],
   "source": [
    "fig = plt.figure(dpi=100)\n",
    "\n",
    "axes1 = fig.add_axes([0, 0, 1, 1])\n",
    "\n",
    "axes1.plot(x, x**2)\n",
    "axes1.set_xlabel('X')\n",
    "axes1.set_ylabel('Y')\n",
    "\n",
    "fig.savefig('figure.png')"
   ]
  },
  {
   "cell_type": "code",
   "execution_count": null,
   "metadata": {},
   "outputs": [],
   "source": [
    "fig = plt.figure(dpi=300)\n",
    "\n",
    "axes1 = fig.add_axes([0, 0, 1, 1])\n",
    "\n",
    "axes1.plot(x, x**2)\n",
    "axes1.set_xlabel('X')\n",
    "axes1.set_ylabel('Y')\n",
    "\n",
    "# bbox_inches ='tight' automatically makes sure the bounding box is correct\n",
    "fig.savefig('figure.png',bbox_inches='tight')"
   ]
  },
  {
   "cell_type": "code",
   "execution_count": null,
   "metadata": {},
   "outputs": [],
   "source": [
    "# Creates blank canvas\n",
    "fig = plt.figure(dpi=200)\n",
    "\n",
    "axes1 = fig.add_axes([0, 0, 1, 1]) # Large figure\n",
    "axes2 = fig.add_axes([0.2, 0.3, 0.5, 0.5]) # Smaller figure\n",
    "axes3 = fig.add_axes([1, 1, 0.25, 0.25]) # Starts at top right corner!\n",
    "\n",
    "# Larger Figure Axes 1\n",
    "axes1.plot(x, 2 ** x)\n",
    "\n",
    "# Use set_ to add to the axes figure\n",
    "axes1.set_xlabel('X Label 1')\n",
    "axes1.set_ylabel('Y Label 1')\n",
    "axes1.set_title('Big Figure')\n",
    "\n",
    "# Insert Figure Axes 2\n",
    "axes2.plot(x,2 ** x)\n",
    "axes2.set_xlim(4,6)\n",
    "axes2.set_ylim(10,70)\n",
    "axes2.set_xlabel('X Label 2')\n",
    "axes2.set_ylabel('Y Label 2')\n",
    "axes2.set_title('Zoomed In');\n",
    "\n",
    "# Insert Figure Axes 3\n",
    "axes3.plot(x,2 ** x)\n",
    "axes3.set_xlim(4,6)\n",
    "axes3.set_ylim(10,70)\n",
    "axes3.set_xlabel('X Label 3')\n",
    "axes3.set_ylabel('Y Label 3')\n",
    "axes3.set_title('Outside Zoomed In');\n",
    "\n",
    "fig.savefig('figure.png',bbox_inches='tight')"
   ]
  },
  {
   "cell_type": "markdown",
   "metadata": {},
   "source": [
    "## Subplots"
   ]
  },
  {
   "cell_type": "code",
   "execution_count": null,
   "metadata": {},
   "outputs": [],
   "source": [
    "# Creates blank canvas\n",
    "fig = plt.figure(dpi=100)\n",
    "\n",
    "axes1 = fig.add_axes([0, 0, 0.25, 1]) # Large figure\n",
    "axes2 = fig.add_axes([0.33, 0, 0.25, 1]) # Smaller figure\n",
    "axes3 = fig.add_axes([0.66, 0, 0.25, 1]) # Starts at top right corner!\n",
    "\n",
    "# Larger Figure Axes 1\n",
    "axes1.plot(x, 2 ** x)\n",
    "\n",
    "# Use set_ to add to the axes figure\n",
    "axes1.set_xlabel('X Label 1')\n",
    "axes1.set_ylabel('Y')\n",
    "axes1.set_title('Left Figure')\n",
    "\n",
    "# Insert Figure Axes 2\n",
    "axes2.plot(x,2 ** x)\n",
    "axes2.set_xlim(4,6)\n",
    "axes2.set_ylim(10,70)\n",
    "axes2.set_xlabel('X Label 2')\n",
    "axes2.set_title('Middle Figure');\n",
    "\n",
    "# Insert Figure Axes 3\n",
    "axes3.plot(x,2 ** x)\n",
    "axes3.set_xlim(4,6)\n",
    "axes3.set_ylim(10,70)\n",
    "axes3.set_xlabel('X Label 3')\n",
    "axes3.set_title('Right Figure');\n",
    "\n",
    "fig.savefig('figure.png',bbox_inches='tight')"
   ]
  },
  {
   "cell_type": "code",
   "execution_count": null,
   "metadata": {},
   "outputs": [],
   "source": [
    "# Empty canvas of 1 by 2 subplots\n",
    "fig, axes = plt.subplots(nrows=1, ncols=3)"
   ]
  },
  {
   "cell_type": "code",
   "execution_count": null,
   "metadata": {},
   "outputs": [],
   "source": [
    "axes"
   ]
  },
  {
   "cell_type": "code",
   "execution_count": null,
   "metadata": {},
   "outputs": [],
   "source": [
    "axes.shape"
   ]
  },
  {
   "cell_type": "code",
   "execution_count": null,
   "metadata": {},
   "outputs": [],
   "source": [
    "# Use similar to plt.figure() except use tuple unpacking to grab fig and axes\n",
    "fig, axes = plt.subplots()\n",
    "\n",
    "# Now use the axes object to add stuff to plot\n",
    "axes.plot(x, x * 2, 'r')\n",
    "axes.set_xlabel('x')\n",
    "axes.set_ylabel('y')\n",
    "axes.set_title('title');"
   ]
  },
  {
   "cell_type": "code",
   "execution_count": null,
   "metadata": {},
   "outputs": [],
   "source": [
    "# Empty canvas of 2 by 2 subplots\n",
    "fig, axes = plt.subplots(nrows=1, ncols=2)\n",
    "axes.shape"
   ]
  },
  {
   "cell_type": "code",
   "execution_count": null,
   "metadata": {},
   "outputs": [],
   "source": [
    "fig,axes = plt.subplots(nrows=1,ncols=2)\n",
    "\n",
    "for axe in axes:\n",
    "    axe.plot(x,x)"
   ]
  },
  {
   "cell_type": "code",
   "execution_count": null,
   "metadata": {},
   "outputs": [],
   "source": [
    "fig,axes = plt.subplots(nrows=2,ncols=1)\n",
    "\n",
    "for axe in axes:\n",
    "    axe.plot(x,x)"
   ]
  },
  {
   "cell_type": "code",
   "execution_count": null,
   "metadata": {},
   "outputs": [],
   "source": [
    "fig,axes = plt.subplots(nrows=2,ncols=2)\n",
    "\n",
    "for axe in axes:\n",
    "    axe.plot(x,x)"
   ]
  },
  {
   "cell_type": "code",
   "execution_count": null,
   "metadata": {},
   "outputs": [],
   "source": [
    "fig,axes = plt.subplots(nrows=2,ncols=2)\n",
    "\n",
    "for axe in axes:\n",
    "    for axe2 in axe:\n",
    "        axe2.plot(x,x)"
   ]
  },
  {
   "cell_type": "code",
   "execution_count": null,
   "metadata": {},
   "outputs": [],
   "source": [
    "# NOTE! This returns 2 dimensional array\n",
    "fig,axes = plt.subplots(nrows=2,ncols=2)\n",
    "\n",
    "axes[0][0].plot(x,x)\n",
    "axes[0][1].plot(x, x ** 3)\n",
    "axes[1][1].plot(x, np.log(x))"
   ]
  },
  {
   "cell_type": "code",
   "execution_count": null,
   "metadata": {},
   "outputs": [],
   "source": [
    "# NOTE! This returns 2 dimensional array\n",
    "fig,axes = plt.subplots(nrows=2,ncols=2)\n",
    "\n",
    "axes[0][0].plot(x,x)\n",
    "axes[0][1].plot(x, x ** 3)\n",
    "axes[1][1].plot(x, np.log(x))\n",
    "plt.tight_layout() #or fig.tight_layout()"
   ]
  },
  {
   "cell_type": "code",
   "execution_count": null,
   "metadata": {},
   "outputs": [],
   "source": [
    "fig,axes = plt.subplots(nrows=2,ncols=2,figsize=(12,8))\n",
    "\n",
    "# Parameters at the axes level\n",
    "axes[0][0].plot(x,x)\n",
    "axes[0][0].set_title('0 0 Title')\n",
    "\n",
    "\n",
    "axes[1][1].plot(x,2**x)\n",
    "axes[1][1].set_title('1 1 Title')\n",
    "axes[1][1].set_xlabel('1 1 X Label')\n",
    "\n",
    "axes[0][1].plot(x,x ** 2)\n",
    "axes[1][0].plot(x,x ** 3)\n",
    "\n",
    "# Parameters at the Figure level\n",
    "fig.suptitle(\"Supper Title\",fontsize=20)\n",
    "\n",
    "\n",
    "plt.show()"
   ]
  },
  {
   "cell_type": "markdown",
   "metadata": {},
   "source": [
    "## Manual spacing on subplots()\n",
    "\n",
    "* to adjust spacing manually `.subplots_adjust`\n",
    "\n",
    "https://matplotlib.org/stable/api/_as_gen/matplotlib.pyplot.subplots_adjust.html\n",
    "\n",
    "* left: the left side of the subplots of the figure\n",
    "* right: the right side of the subplots of the figure\n",
    "* bottom: the bottom of the subplots of the figure\n",
    "* top: the top of the subplots of the figure\n",
    "* wspace: the amount of width reserved for space between subplots, expressed as a fraction of the average axis width\n",
    "* hspace: the amount of height reserved for space between subplots, expressed as a fraction of the average axis height"
   ]
  },
  {
   "cell_type": "code",
   "execution_count": null,
   "metadata": {},
   "outputs": [],
   "source": [
    "# NOTE! This returns 2 dimensional array\n",
    "fig,axes = plt.subplots(nrows=2,ncols=2,figsize=(8,6))\n",
    "\n",
    "axes[0][0].plot(x,x)\n",
    "axes[0][1].plot(x, x ** 3)\n",
    "axes[1][0].plot(x, np.log(x))\n",
    "axes[1][1].plot(x, np.exp(x))\n",
    "plt.tight_layout()"
   ]
  },
  {
   "cell_type": "code",
   "execution_count": null,
   "metadata": {},
   "outputs": [],
   "source": [
    "fig,axes = plt.subplots(nrows=2,ncols=2,figsize=(8,6))\n",
    "\n",
    "# Parameters at the axes level\n",
    "axes[0][0].plot(x,x)\n",
    "axes[0][1].plot(x, x ** 3)\n",
    "axes[1][0].plot(x, np.log(x))\n",
    "axes[1][1].plot(x, np.exp(x))\n",
    "\n",
    "# Use left,right,top, bottom to stretch subplots\n",
    "# Use wspace,hspace to add spacing between subplots\n",
    "fig.subplots_adjust(wspace=0.5, hspace=0.3)\n",
    "# fig.savefig('subplots.png',bbox_inches='tight')\n",
    "\n",
    "plt.show()"
   ]
  },
  {
   "cell_type": "code",
   "execution_count": null,
   "metadata": {},
   "outputs": [],
   "source": [
    "# NOTE! This returns 2 dimensional array\n",
    "fig,axes = plt.subplots(nrows=2,ncols=2,figsize=(8,6),dpi= 200)\n",
    "\n",
    "axes[0][0].plot(x,x)\n",
    "axes[0][1].plot(x, x ** 3)\n",
    "axes[1][0].plot(x, np.log(x))\n",
    "axes[1][1].plot(x, np.exp(x))\n",
    "fig.subplots_adjust(wspace=0.5, hspace=0.3)\n",
    "# fig.savefig('subplots.png',bbox_inches='tight')\n",
    "\n",
    "plt.show()"
   ]
  },
  {
   "cell_type": "markdown",
   "metadata": {},
   "source": [
    "## Legends\n",
    "* Using `label=label text` while plots or other objects are added to the figure,\n",
    "* Using the `legend` method without arguments to add the legend to the figure."
   ]
  },
  {
   "cell_type": "code",
   "execution_count": null,
   "metadata": {},
   "outputs": [],
   "source": [
    "fig = plt.figure(dpi=200)\n",
    "\n",
    "ax = fig.add_axes([0,0,1,1])\n",
    "\n",
    "ax.plot(x, x**2, label=\"$x^2$\")\n",
    "ax.plot(x, x**3, label=\"x**3\")\n",
    "ax.legend()"
   ]
  },
  {
   "cell_type": "code",
   "execution_count": null,
   "metadata": {},
   "outputs": [],
   "source": [
    "fig = plt.figure(dpi=200)\n",
    "\n",
    "ax = fig.add_axes([0,0,1,1])\n",
    "\n",
    "ax.plot(x, x**2, label=\"$x^2$\")\n",
    "ax.plot(x, x**3, label=\"x**3\")\n",
    "ax.text(8, 100, r\"$y=x^2$\", fontsize=16, color=\"blue\")\n",
    "ax.text(5, 250, r\"$y=x^3$\", fontsize=16, color=\"orange\")\n",
    "ax.legend();"
   ]
  },
  {
   "cell_type": "markdown",
   "metadata": {},
   "source": [
    "**overlapping legend**\n",
    "\n",
    "* `loc` arguments: \n",
    "\n",
    "https://matplotlib.org/stable/tutorials/intermediate/legend_guide.html"
   ]
  },
  {
   "cell_type": "code",
   "execution_count": null,
   "metadata": {},
   "outputs": [],
   "source": [
    "# ax.legend(loc=1) # upper right corner\n",
    "# ax.legend(loc=2) # upper left corner\n",
    "# ax.legend(loc=3) # lower left corner\n",
    "# ax.legend(loc=4) # lower right corner\n",
    "ax.legend(loc=0) # let matplotlib decide the optimal location(The best)\n",
    "\n",
    "fig"
   ]
  },
  {
   "cell_type": "code",
   "execution_count": null,
   "metadata": {},
   "outputs": [],
   "source": [
    "ax.legend(loc=(1.1,0.5)) # manually set location\n",
    "fig"
   ]
  },
  {
   "cell_type": "markdown",
   "metadata": {},
   "source": [
    "## Colors, linewidths, linetypes"
   ]
  },
  {
   "cell_type": "markdown",
   "metadata": {},
   "source": [
    "* `'b'`: blue,\n",
    "* `'g'`: green\n",
    "* `'b.-'`: a blue line with dots."
   ]
  },
  {
   "cell_type": "code",
   "execution_count": null,
   "metadata": {},
   "outputs": [],
   "source": [
    "fig, ax = plt.subplots()\n",
    "ax.plot(x, x*2, 'b.-') # blue line with dots\n",
    "ax.plot(x, x**2, 'r-*') # red line with asterisk\n",
    "ax.plot(x, x**2 + 10 * x, 'b*') # blue asterisk\n",
    "ax.plot(x, x**2 + 20 * x, 'rs') # red squared\n",
    "ax.plot(x, x**3, 'g--') # green dashed line"
   ]
  },
  {
   "cell_type": "markdown",
   "metadata": {},
   "source": [
    "* use `color` keyword (https://matplotlib.org/stable/gallery/color/named_colors.html)\n",
    "* use `alpha` keyword to indicate opacity."
   ]
  },
  {
   "cell_type": "code",
   "execution_count": null,
   "metadata": {},
   "outputs": [],
   "source": [
    "fig, ax = plt.subplots()\n",
    "\n",
    "ax.plot(x, x, color=\"#1f77b4\")          # RGB hex code \n",
    "ax.plot(x, x+1, color=\"#8B008B\")        # RGB hex code\n",
    "ax.plot(x, x+2, color=\"#FF8C00\")        # RGB hex code \n",
    "ax.plot(x, x+3, color=\"blue\")\n",
    "ax.plot(x, x+4, color=\"red\")\n",
    "ax.plot(x, x+5, color=\"purple\")\n",
    "ax.plot(x, x+6, color=\"brown\")\n",
    "ax.plot(x, x+7, color=\"pink\") \n",
    "ax.plot(x, x+8, color=\"gray\")\n",
    "ax.plot(x, x+9, color=\"cyan\")\n",
    "ax.plot(x, x+10, color=\"black\")\n",
    "ax.plot(x, x+11, color=\"yellow\")\n",
    "ax.plot(x, x+12, color=\"olive\", alpha=0.7) # half-transparant"
   ]
  },
  {
   "cell_type": "markdown",
   "metadata": {},
   "source": [
    "## Linewidth\n",
    "\n",
    "* `linewidth`\n",
    "* `lw`"
   ]
  },
  {
   "cell_type": "code",
   "execution_count": null,
   "metadata": {},
   "outputs": [],
   "source": [
    "fig, ax = plt.subplots(figsize=(12,6))\n",
    "\n",
    "ax.plot(x, x-1, color=\"red\", linewidth=0.25)\n",
    "ax.plot(x, x-2, color=\"red\", lw=0.50)\n",
    "ax.plot(x, x-3, color=\"red\", lw=1)\n",
    "ax.plot(x, x-4, color=\"red\", lw=5)\n",
    "ax.plot(x, x-5, color=\"red\", lw=10)"
   ]
  },
  {
   "cell_type": "markdown",
   "metadata": {},
   "source": [
    "## Linestyles"
   ]
  },
  {
   "cell_type": "code",
   "execution_count": null,
   "metadata": {},
   "outputs": [],
   "source": [
    "# possible linestype options ‘--‘, ‘–’, ‘-.’, ‘:’, ‘steps’\n",
    "fig, ax = plt.subplots(figsize=(12,6))\n",
    "\n",
    "ax.plot(x, x-1, color=\"green\", lw=3, linestyle='-') # solid\n",
    "ax.plot(x, x-2, color=\"green\", lw=3, ls='-.') # dash and dot\n",
    "ax.plot(x, x-3, color=\"green\", lw=3, ls=':') # dots\n",
    "ax.plot(x, x-4, color=\"green\", lw=3, ls='--') # dashes "
   ]
  },
  {
   "cell_type": "markdown",
   "metadata": {},
   "source": [
    "### Sequence linestyle dash\n",
    "\n",
    "For example, (5, 2, 1, 2) describes a sequence of 5 point and 1 point\n",
    "dashes separated by 2 point spaces."
   ]
  },
  {
   "cell_type": "code",
   "execution_count": null,
   "metadata": {},
   "outputs": [],
   "source": [
    "fig, ax = plt.subplots(figsize=(12,6))\n",
    "\n",
    "lines = ax.plot(x,x)\n",
    "print(type(lines))"
   ]
  },
  {
   "cell_type": "code",
   "execution_count": null,
   "metadata": {},
   "outputs": [],
   "source": [
    "fig, ax = plt.subplots(figsize=(12,6))\n",
    "# custom dash\n",
    "lines = ax.plot(x, x + 1, color=\"black\", lw=4)\n",
    "lines[0].set_dashes([5, 2, 3, 1]) # format: line length, space length"
   ]
  },
  {
   "cell_type": "code",
   "execution_count": null,
   "metadata": {},
   "outputs": [],
   "source": [
    "fig, ax = plt.subplots(figsize=(12,6))\n",
    "# custom dash\n",
    "lines = ax.plot(x, x+8, color=\"black\", lw=5)\n",
    "lines[0].set_dashes([1,1,1,1,10,5])"
   ]
  },
  {
   "cell_type": "markdown",
   "metadata": {},
   "source": [
    "## Markers\n",
    "\n",
    "https://matplotlib.org/stable/api/markers_api.html"
   ]
  },
  {
   "cell_type": "code",
   "execution_count": null,
   "metadata": {},
   "outputs": [],
   "source": [
    "fig, ax = plt.subplots(figsize=(12,6))\n",
    "\n",
    "ax.plot(x, x-1,marker='+',markersize=10)\n",
    "ax.plot(x, x-2,marker='o',ms=10)      #ms can be used for markersize\n",
    "ax.plot(x, x-3,marker='s',ms=10,lw=0) # make linewidth zero to see only markers\n",
    "ax.plot(x, x-4,marker='P',ms=10)\n",
    "ax.plot(x, x-5,marker='>',ms=10)\n",
    "ax.plot(x, x-6,marker='D',ms=10)\n",
    "ax.plot(x, x-7,marker='|',ms=10)\n",
    "ax.plot(x, x-8,marker='_',ms=10)\n",
    "ax.plot(x, x-9,marker='d',ms=10)\n",
    "ax.plot(x, x-10,marker='v',ms=10)"
   ]
  },
  {
   "cell_type": "code",
   "execution_count": null,
   "metadata": {},
   "outputs": [],
   "source": [
    "fig, ax = plt.subplots(figsize=(12,6))\n",
    "\n",
    "ax.plot(x, x, color=\"black\", lw=3, ls='-', marker='o', markersize=20, \n",
    "        markerfacecolor=\"red\", markeredgewidth=5, markeredgecolor=\"blue\");"
   ]
  },
  {
   "cell_type": "markdown",
   "metadata": {},
   "source": [
    "## Logarithmic scale"
   ]
  },
  {
   "cell_type": "code",
   "execution_count": null,
   "metadata": {},
   "outputs": [],
   "source": [
    "fig, axes = plt.subplots(1, 2, figsize=(10,4))\n",
    "      \n",
    "axes[0].plot(x, x**2)\n",
    "axes[0].plot(x, np.exp(x))\n",
    "axes[0].set_title(\"Normal scale\")\n",
    "\n",
    "axes[1].plot(x, x**2)\n",
    "axes[1].plot(x, np.exp(x))\n",
    "axes[1].set_yscale(\"log\")\n",
    "axes[1].set_title(\"Logarithmic scale (y)\");"
   ]
  },
  {
   "cell_type": "markdown",
   "metadata": {},
   "source": [
    "## Tick labels\n",
    "https://matplotlib.org/stable/api/ticker_api.html"
   ]
  },
  {
   "cell_type": "code",
   "execution_count": null,
   "metadata": {},
   "outputs": [],
   "source": [
    "xx = np.arange(1,6)\n",
    "fig, ax = plt.subplots(figsize=(10, 4))\n",
    "\n",
    "ax.plot(xx, xx**2, xx, xx**3, lw=2)\n",
    "\n",
    "ax.set_xticks([1, 2, 3, 4, 5])\n",
    "ax.set_xticklabels([r'$\\alpha$', r'$\\beta$', r'$\\gamma$', r'$\\delta$', r'$\\epsilon$'], fontsize=18)\n",
    "\n",
    "yticks = [0, 50, 100, 150]\n",
    "ax.set_yticks(yticks)\n",
    "ax.set_yticklabels([\"$%.1f$\" % y for y in yticks], fontsize=18); # use LaTeX formatted labels"
   ]
  },
  {
   "cell_type": "markdown",
   "metadata": {},
   "source": [
    "## Grid"
   ]
  },
  {
   "cell_type": "code",
   "execution_count": null,
   "metadata": {},
   "outputs": [],
   "source": [
    "fig, axes = plt.subplots(1, 2, figsize=(10,3))\n",
    "\n",
    "# default grid appearance\n",
    "axes[0].plot(x, x**2, x, x**3, lw=2)\n",
    "axes[0].grid(True)\n",
    "\n",
    "# custom grid appearance\n",
    "axes[1].plot(x, x**2, x, x**3, lw=2)\n",
    "axes[1].grid(color='b', alpha=0.7, linestyle='dashed', linewidth=0.5)"
   ]
  },
  {
   "cell_type": "markdown",
   "metadata": {},
   "source": [
    "## Exercises:"
   ]
  },
  {
   "cell_type": "markdown",
   "metadata": {},
   "source": [
    "**Axis grid**<br>\n",
    "**Gridspec**<br>\n",
    "**Twin axes**<br>\n",
    "**Spines**<br>\n",
    "**Colormap**<br>\n",
    "**Contour figures**\n"
   ]
  },
  {
   "cell_type": "markdown",
   "metadata": {},
   "source": [
    "## Further reading:\n",
    "\n",
    "* http://www.matplotlib.org - The project web page for matplotlib.\n",
    "* https://github.com/matplotlib/matplotlib\n",
    "* http://matplotlib.org/gallery.html"
   ]
  },
  {
   "cell_type": "markdown",
   "metadata": {},
   "source": [
    "## Good question:\n",
    "**What kind of diagrams must we draw in different sorts of data?**\n",
    "\n",
    "Guide: ***Storytelling with data, Cole Nussbaumer Knaflic, 2015.***"
   ]
  },
  {
   "cell_type": "code",
   "execution_count": null,
   "metadata": {},
   "outputs": [],
   "source": []
  }
 ],
 "metadata": {
  "anaconda-cloud": {},
  "kernelspec": {
   "display_name": "Python 3",
   "language": "python",
   "name": "python3"
  },
  "language_info": {
   "codemirror_mode": {
    "name": "ipython",
    "version": 3
   },
   "file_extension": ".py",
   "mimetype": "text/x-python",
   "name": "python",
   "nbconvert_exporter": "python",
   "pygments_lexer": "ipython3",
   "version": "3.8.8"
  }
 },
 "nbformat": 4,
 "nbformat_minor": 1
}
